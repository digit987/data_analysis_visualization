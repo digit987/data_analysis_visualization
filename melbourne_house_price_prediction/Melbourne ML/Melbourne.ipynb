{
 "cells": [
  {
   "cell_type": "markdown",
   "metadata": {},
   "source": [
    "**This notebook demonstartes machine learning models.**\n",
    "\n",
    "**Models implemented currently are: Decision Tree Regressor, Random Forest, Naive Bayes, Linear Regression.**\n",
    "\n",
    "**Models are exposed using an API.**\n",
    "\n",
    "**Dataset used is of \"Melbourne Housing Data\" more about which can be found here: https://www.kaggle.com/dansbecker/starting-your-ml-project/data**"
   ]
  },
  {
   "cell_type": "markdown",
   "metadata": {},
   "source": [
    "We import various modules to obtain the functionalities needed in the project and offered by various packages."
   ]
  },
  {
   "cell_type": "code",
   "execution_count": 3,
   "metadata": {
    "collapsed": true
   },
   "outputs": [],
   "source": [
    "import numpy as np\n",
    "import pandas as pd\n",
    "from sklearn.metrics import accuracy_score\n",
    "from sklearn.model_selection import train_test_split\n",
    "from sklearn.tree import DecisionTreeRegressor\n",
    "from sklearn.linear_model import LinearRegression\n",
    "from sklearn.preprocessing import Imputer\n",
    "from sklearn import preprocessing\n",
    "from sklearn.ensemble import RandomForestRegressor\n",
    "from sklearn.naive_bayes import GaussianNB, MultinomialNB, BernoulliNB\n",
    "from sklearn.metrics import mean_absolute_error\n",
    "from sklearn.metrics import mean_squared_error\n",
    "from sklearn.metrics import accuracy_score\n",
    "from sklearn.externals import joblib\n",
    "from flask import Flask, json, jsonify\n",
    "from matplotlib import pyplot as plt\n",
    "from math import sqrt"
   ]
  },
  {
   "cell_type": "markdown",
   "metadata": {},
   "source": [
    "Dataset resides in the path indicated by the variable melbourne_file_path below."
   ]
  },
  {
   "cell_type": "code",
   "execution_count": 263,
   "metadata": {},
   "outputs": [],
   "source": [
    "melbourne_file_path = \"melbourne-housing-staticversion/melb_data.csv\"\n",
    "m_data = pd.read_csv(melbourne_file_path)"
   ]
  },
  {
   "cell_type": "markdown",
   "metadata": {},
   "source": [
    "Setting precision"
   ]
  },
  {
   "cell_type": "code",
   "execution_count": 286,
   "metadata": {
    "collapsed": true
   },
   "outputs": [],
   "source": [
    "pd.options.display.float_format = '{:.7f}'.format"
   ]
  },
  {
   "cell_type": "markdown",
   "metadata": {},
   "source": [
    "Displaying initial 5 rows of the dataset"
   ]
  },
  {
   "cell_type": "code",
   "execution_count": 245,
   "metadata": {},
   "outputs": [
    {
     "data": {
      "text/html": [
       "<div>\n",
       "<style>\n",
       "    .dataframe thead tr:only-child th {\n",
       "        text-align: right;\n",
       "    }\n",
       "\n",
       "    .dataframe thead th {\n",
       "        text-align: left;\n",
       "    }\n",
       "\n",
       "    .dataframe tbody tr th {\n",
       "        vertical-align: top;\n",
       "    }\n",
       "</style>\n",
       "<table border=\"1\" class=\"dataframe\">\n",
       "  <thead>\n",
       "    <tr style=\"text-align: right;\">\n",
       "      <th></th>\n",
       "      <th>Serial</th>\n",
       "      <th>Suburb</th>\n",
       "      <th>Address</th>\n",
       "      <th>Rooms</th>\n",
       "      <th>Type</th>\n",
       "      <th>Price</th>\n",
       "      <th>Method</th>\n",
       "      <th>SellerG</th>\n",
       "      <th>Date</th>\n",
       "      <th>Distance</th>\n",
       "      <th>...</th>\n",
       "      <th>Bathroom</th>\n",
       "      <th>Car</th>\n",
       "      <th>Landsize</th>\n",
       "      <th>BuildingArea</th>\n",
       "      <th>YearBuilt</th>\n",
       "      <th>CouncilArea</th>\n",
       "      <th>Lattitude</th>\n",
       "      <th>Longtitude</th>\n",
       "      <th>Regionname</th>\n",
       "      <th>Propertycount</th>\n",
       "    </tr>\n",
       "  </thead>\n",
       "  <tbody>\n",
       "    <tr>\n",
       "      <th>0</th>\n",
       "      <td>1</td>\n",
       "      <td>Abbotsford</td>\n",
       "      <td>85 Turner St</td>\n",
       "      <td>2</td>\n",
       "      <td>h</td>\n",
       "      <td>1480000.0</td>\n",
       "      <td>S</td>\n",
       "      <td>Biggin</td>\n",
       "      <td>3/12/2016</td>\n",
       "      <td>2.5</td>\n",
       "      <td>...</td>\n",
       "      <td>1.0</td>\n",
       "      <td>1.0</td>\n",
       "      <td>202.0</td>\n",
       "      <td>NaN</td>\n",
       "      <td>NaN</td>\n",
       "      <td>Yarra</td>\n",
       "      <td>-37.7996</td>\n",
       "      <td>144.9984</td>\n",
       "      <td>Northern Metropolitan</td>\n",
       "      <td>4019.0</td>\n",
       "    </tr>\n",
       "    <tr>\n",
       "      <th>1</th>\n",
       "      <td>2</td>\n",
       "      <td>Abbotsford</td>\n",
       "      <td>25 Bloomburg St</td>\n",
       "      <td>2</td>\n",
       "      <td>h</td>\n",
       "      <td>1035000.0</td>\n",
       "      <td>S</td>\n",
       "      <td>Biggin</td>\n",
       "      <td>4/02/2016</td>\n",
       "      <td>2.5</td>\n",
       "      <td>...</td>\n",
       "      <td>1.0</td>\n",
       "      <td>0.0</td>\n",
       "      <td>156.0</td>\n",
       "      <td>79.0</td>\n",
       "      <td>1900.0</td>\n",
       "      <td>Yarra</td>\n",
       "      <td>-37.8079</td>\n",
       "      <td>144.9934</td>\n",
       "      <td>Northern Metropolitan</td>\n",
       "      <td>4019.0</td>\n",
       "    </tr>\n",
       "    <tr>\n",
       "      <th>2</th>\n",
       "      <td>4</td>\n",
       "      <td>Abbotsford</td>\n",
       "      <td>5 Charles St</td>\n",
       "      <td>3</td>\n",
       "      <td>h</td>\n",
       "      <td>1465000.0</td>\n",
       "      <td>SP</td>\n",
       "      <td>Biggin</td>\n",
       "      <td>4/03/2017</td>\n",
       "      <td>2.5</td>\n",
       "      <td>...</td>\n",
       "      <td>2.0</td>\n",
       "      <td>0.0</td>\n",
       "      <td>134.0</td>\n",
       "      <td>150.0</td>\n",
       "      <td>1900.0</td>\n",
       "      <td>Yarra</td>\n",
       "      <td>-37.8093</td>\n",
       "      <td>144.9944</td>\n",
       "      <td>Northern Metropolitan</td>\n",
       "      <td>4019.0</td>\n",
       "    </tr>\n",
       "    <tr>\n",
       "      <th>3</th>\n",
       "      <td>5</td>\n",
       "      <td>Abbotsford</td>\n",
       "      <td>40 Federation La</td>\n",
       "      <td>3</td>\n",
       "      <td>h</td>\n",
       "      <td>850000.0</td>\n",
       "      <td>PI</td>\n",
       "      <td>Biggin</td>\n",
       "      <td>4/03/2017</td>\n",
       "      <td>2.5</td>\n",
       "      <td>...</td>\n",
       "      <td>2.0</td>\n",
       "      <td>1.0</td>\n",
       "      <td>94.0</td>\n",
       "      <td>NaN</td>\n",
       "      <td>NaN</td>\n",
       "      <td>Yarra</td>\n",
       "      <td>-37.7969</td>\n",
       "      <td>144.9969</td>\n",
       "      <td>Northern Metropolitan</td>\n",
       "      <td>4019.0</td>\n",
       "    </tr>\n",
       "    <tr>\n",
       "      <th>4</th>\n",
       "      <td>6</td>\n",
       "      <td>Abbotsford</td>\n",
       "      <td>55a Park St</td>\n",
       "      <td>4</td>\n",
       "      <td>h</td>\n",
       "      <td>1600000.0</td>\n",
       "      <td>VB</td>\n",
       "      <td>Nelson</td>\n",
       "      <td>4/06/2016</td>\n",
       "      <td>2.5</td>\n",
       "      <td>...</td>\n",
       "      <td>1.0</td>\n",
       "      <td>2.0</td>\n",
       "      <td>120.0</td>\n",
       "      <td>142.0</td>\n",
       "      <td>2014.0</td>\n",
       "      <td>Yarra</td>\n",
       "      <td>-37.8072</td>\n",
       "      <td>144.9941</td>\n",
       "      <td>Northern Metropolitan</td>\n",
       "      <td>4019.0</td>\n",
       "    </tr>\n",
       "  </tbody>\n",
       "</table>\n",
       "<p>5 rows × 22 columns</p>\n",
       "</div>"
      ],
      "text/plain": [
       "   Serial      Suburb           Address  Rooms Type      Price Method SellerG  \\\n",
       "0       1  Abbotsford      85 Turner St      2    h  1480000.0      S  Biggin   \n",
       "1       2  Abbotsford   25 Bloomburg St      2    h  1035000.0      S  Biggin   \n",
       "2       4  Abbotsford      5 Charles St      3    h  1465000.0     SP  Biggin   \n",
       "3       5  Abbotsford  40 Federation La      3    h   850000.0     PI  Biggin   \n",
       "4       6  Abbotsford       55a Park St      4    h  1600000.0     VB  Nelson   \n",
       "\n",
       "        Date  Distance      ...        Bathroom  Car  Landsize  BuildingArea  \\\n",
       "0  3/12/2016       2.5      ...             1.0  1.0     202.0           NaN   \n",
       "1  4/02/2016       2.5      ...             1.0  0.0     156.0          79.0   \n",
       "2  4/03/2017       2.5      ...             2.0  0.0     134.0         150.0   \n",
       "3  4/03/2017       2.5      ...             2.0  1.0      94.0           NaN   \n",
       "4  4/06/2016       2.5      ...             1.0  2.0     120.0         142.0   \n",
       "\n",
       "   YearBuilt  CouncilArea  Lattitude Longtitude             Regionname  \\\n",
       "0        NaN        Yarra   -37.7996   144.9984  Northern Metropolitan   \n",
       "1     1900.0        Yarra   -37.8079   144.9934  Northern Metropolitan   \n",
       "2     1900.0        Yarra   -37.8093   144.9944  Northern Metropolitan   \n",
       "3        NaN        Yarra   -37.7969   144.9969  Northern Metropolitan   \n",
       "4     2014.0        Yarra   -37.8072   144.9941  Northern Metropolitan   \n",
       "\n",
       "   Propertycount  \n",
       "0         4019.0  \n",
       "1         4019.0  \n",
       "2         4019.0  \n",
       "3         4019.0  \n",
       "4         4019.0  \n",
       "\n",
       "[5 rows x 22 columns]"
      ]
     },
     "execution_count": 245,
     "metadata": {},
     "output_type": "execute_result"
    }
   ],
   "source": [
    "m_data.head()"
   ]
  },
  {
   "cell_type": "markdown",
   "metadata": {},
   "source": [
    "Renaming unnamed column"
   ]
  },
  {
   "cell_type": "code",
   "execution_count": 364,
   "metadata": {},
   "outputs": [],
   "source": [
    "m_data.rename(columns = {m_data.columns.values[0]: 'Serial'}, inplace = True)"
   ]
  },
  {
   "cell_type": "markdown",
   "metadata": {},
   "source": [
    "Inspecting the data"
   ]
  },
  {
   "cell_type": "code",
   "execution_count": 265,
   "metadata": {},
   "outputs": [
    {
     "data": {
      "text/html": [
       "<div>\n",
       "<style>\n",
       "    .dataframe thead tr:only-child th {\n",
       "        text-align: right;\n",
       "    }\n",
       "\n",
       "    .dataframe thead th {\n",
       "        text-align: left;\n",
       "    }\n",
       "\n",
       "    .dataframe tbody tr th {\n",
       "        vertical-align: top;\n",
       "    }\n",
       "</style>\n",
       "<table border=\"1\" class=\"dataframe\">\n",
       "  <thead>\n",
       "    <tr style=\"text-align: right;\">\n",
       "      <th></th>\n",
       "      <th>Serial</th>\n",
       "      <th>Rooms</th>\n",
       "      <th>Price</th>\n",
       "      <th>Distance</th>\n",
       "      <th>Postcode</th>\n",
       "      <th>Bedroom2</th>\n",
       "      <th>Bathroom</th>\n",
       "      <th>Car</th>\n",
       "      <th>Landsize</th>\n",
       "      <th>BuildingArea</th>\n",
       "      <th>YearBuilt</th>\n",
       "      <th>Lattitude</th>\n",
       "      <th>Longtitude</th>\n",
       "      <th>Propertycount</th>\n",
       "    </tr>\n",
       "  </thead>\n",
       "  <tbody>\n",
       "    <tr>\n",
       "      <th>count</th>\n",
       "      <td>18396.0000000</td>\n",
       "      <td>18396.0000000</td>\n",
       "      <td>1.8396000e+04</td>\n",
       "      <td>18395.0000000</td>\n",
       "      <td>18395.0000000</td>\n",
       "      <td>14927.0000000</td>\n",
       "      <td>14925.0000000</td>\n",
       "      <td>14820.0000000</td>\n",
       "      <td>13603.0000000</td>\n",
       "      <td>7762.0000000</td>\n",
       "      <td>8958.0000000</td>\n",
       "      <td>15064.0000000</td>\n",
       "      <td>15064.0000000</td>\n",
       "      <td>18395.0000000</td>\n",
       "    </tr>\n",
       "    <tr>\n",
       "      <th>mean</th>\n",
       "      <td>11826.7870733</td>\n",
       "      <td>2.9350402</td>\n",
       "      <td>1.0566975e+06</td>\n",
       "      <td>10.3899864</td>\n",
       "      <td>3107.1401468</td>\n",
       "      <td>2.9130435</td>\n",
       "      <td>1.5384925</td>\n",
       "      <td>1.6155196</td>\n",
       "      <td>558.1163714</td>\n",
       "      <td>151.2202195</td>\n",
       "      <td>1965.8799955</td>\n",
       "      <td>-37.8098491</td>\n",
       "      <td>144.9963378</td>\n",
       "      <td>7517.9752650</td>\n",
       "    </tr>\n",
       "    <tr>\n",
       "      <th>std</th>\n",
       "      <td>6800.7104480</td>\n",
       "      <td>0.9582015</td>\n",
       "      <td>6.4192167e+05</td>\n",
       "      <td>6.0090497</td>\n",
       "      <td>95.0009948</td>\n",
       "      <td>0.9646412</td>\n",
       "      <td>0.6893111</td>\n",
       "      <td>0.9559157</td>\n",
       "      <td>3987.3265856</td>\n",
       "      <td>519.1885958</td>\n",
       "      <td>37.0132607</td>\n",
       "      <td>0.0811524</td>\n",
       "      <td>0.1063752</td>\n",
       "      <td>4488.4165986</td>\n",
       "    </tr>\n",
       "    <tr>\n",
       "      <th>min</th>\n",
       "      <td>1.0000000</td>\n",
       "      <td>1.0000000</td>\n",
       "      <td>8.5000000e+04</td>\n",
       "      <td>0.0000000</td>\n",
       "      <td>3000.0000000</td>\n",
       "      <td>0.0000000</td>\n",
       "      <td>0.0000000</td>\n",
       "      <td>0.0000000</td>\n",
       "      <td>0.0000000</td>\n",
       "      <td>0.0000000</td>\n",
       "      <td>1196.0000000</td>\n",
       "      <td>-38.1825500</td>\n",
       "      <td>144.4318100</td>\n",
       "      <td>249.0000000</td>\n",
       "    </tr>\n",
       "    <tr>\n",
       "      <th>25%</th>\n",
       "      <td>5936.7500000</td>\n",
       "      <td>2.0000000</td>\n",
       "      <td>6.3300000e+05</td>\n",
       "      <td>6.3000000</td>\n",
       "      <td>3046.0000000</td>\n",
       "      <td>2.0000000</td>\n",
       "      <td>1.0000000</td>\n",
       "      <td>1.0000000</td>\n",
       "      <td>176.5000000</td>\n",
       "      <td>93.0000000</td>\n",
       "      <td>1950.0000000</td>\n",
       "      <td>-37.8581000</td>\n",
       "      <td>144.9311925</td>\n",
       "      <td>4294.0000000</td>\n",
       "    </tr>\n",
       "    <tr>\n",
       "      <th>50%</th>\n",
       "      <td>11820.5000000</td>\n",
       "      <td>3.0000000</td>\n",
       "      <td>8.8000000e+05</td>\n",
       "      <td>9.7000000</td>\n",
       "      <td>3085.0000000</td>\n",
       "      <td>3.0000000</td>\n",
       "      <td>1.0000000</td>\n",
       "      <td>2.0000000</td>\n",
       "      <td>440.0000000</td>\n",
       "      <td>126.0000000</td>\n",
       "      <td>1970.0000000</td>\n",
       "      <td>-37.8036250</td>\n",
       "      <td>145.0009200</td>\n",
       "      <td>6567.0000000</td>\n",
       "    </tr>\n",
       "    <tr>\n",
       "      <th>75%</th>\n",
       "      <td>17734.2500000</td>\n",
       "      <td>3.0000000</td>\n",
       "      <td>1.3020000e+06</td>\n",
       "      <td>13.3000000</td>\n",
       "      <td>3149.0000000</td>\n",
       "      <td>3.0000000</td>\n",
       "      <td>2.0000000</td>\n",
       "      <td>2.0000000</td>\n",
       "      <td>651.0000000</td>\n",
       "      <td>174.0000000</td>\n",
       "      <td>2000.0000000</td>\n",
       "      <td>-37.7562700</td>\n",
       "      <td>145.0600000</td>\n",
       "      <td>10331.0000000</td>\n",
       "    </tr>\n",
       "    <tr>\n",
       "      <th>max</th>\n",
       "      <td>23546.0000000</td>\n",
       "      <td>12.0000000</td>\n",
       "      <td>9.0000000e+06</td>\n",
       "      <td>48.1000000</td>\n",
       "      <td>3978.0000000</td>\n",
       "      <td>20.0000000</td>\n",
       "      <td>8.0000000</td>\n",
       "      <td>10.0000000</td>\n",
       "      <td>433014.0000000</td>\n",
       "      <td>44515.0000000</td>\n",
       "      <td>2018.0000000</td>\n",
       "      <td>-37.4085300</td>\n",
       "      <td>145.5263500</td>\n",
       "      <td>21650.0000000</td>\n",
       "    </tr>\n",
       "  </tbody>\n",
       "</table>\n",
       "</div>"
      ],
      "text/plain": [
       "              Serial          Rooms          Price       Distance  \\\n",
       "count  18396.0000000  18396.0000000  1.8396000e+04  18395.0000000   \n",
       "mean   11826.7870733      2.9350402  1.0566975e+06     10.3899864   \n",
       "std     6800.7104480      0.9582015  6.4192167e+05      6.0090497   \n",
       "min        1.0000000      1.0000000  8.5000000e+04      0.0000000   \n",
       "25%     5936.7500000      2.0000000  6.3300000e+05      6.3000000   \n",
       "50%    11820.5000000      3.0000000  8.8000000e+05      9.7000000   \n",
       "75%    17734.2500000      3.0000000  1.3020000e+06     13.3000000   \n",
       "max    23546.0000000     12.0000000  9.0000000e+06     48.1000000   \n",
       "\n",
       "            Postcode       Bedroom2       Bathroom            Car  \\\n",
       "count  18395.0000000  14927.0000000  14925.0000000  14820.0000000   \n",
       "mean    3107.1401468      2.9130435      1.5384925      1.6155196   \n",
       "std       95.0009948      0.9646412      0.6893111      0.9559157   \n",
       "min     3000.0000000      0.0000000      0.0000000      0.0000000   \n",
       "25%     3046.0000000      2.0000000      1.0000000      1.0000000   \n",
       "50%     3085.0000000      3.0000000      1.0000000      2.0000000   \n",
       "75%     3149.0000000      3.0000000      2.0000000      2.0000000   \n",
       "max     3978.0000000     20.0000000      8.0000000     10.0000000   \n",
       "\n",
       "             Landsize   BuildingArea     YearBuilt      Lattitude  \\\n",
       "count   13603.0000000   7762.0000000  8958.0000000  15064.0000000   \n",
       "mean      558.1163714    151.2202195  1965.8799955    -37.8098491   \n",
       "std      3987.3265856    519.1885958    37.0132607      0.0811524   \n",
       "min         0.0000000      0.0000000  1196.0000000    -38.1825500   \n",
       "25%       176.5000000     93.0000000  1950.0000000    -37.8581000   \n",
       "50%       440.0000000    126.0000000  1970.0000000    -37.8036250   \n",
       "75%       651.0000000    174.0000000  2000.0000000    -37.7562700   \n",
       "max    433014.0000000  44515.0000000  2018.0000000    -37.4085300   \n",
       "\n",
       "          Longtitude  Propertycount  \n",
       "count  15064.0000000  18395.0000000  \n",
       "mean     144.9963378   7517.9752650  \n",
       "std        0.1063752   4488.4165986  \n",
       "min      144.4318100    249.0000000  \n",
       "25%      144.9311925   4294.0000000  \n",
       "50%      145.0009200   6567.0000000  \n",
       "75%      145.0600000  10331.0000000  \n",
       "max      145.5263500  21650.0000000  "
      ]
     },
     "execution_count": 265,
     "metadata": {},
     "output_type": "execute_result"
    }
   ],
   "source": [
    "m_data.shape\n",
    "m_data.describe()"
   ]
  },
  {
   "cell_type": "markdown",
   "metadata": {},
   "source": [
    "We find that BuildingArea and YearBuilt have 58% and 52% NULL data. So, it's safe not to consider them for further analysis. We go on to transform data and impute the features, and feed the new transformed data under 'melbourne_data'."
   ]
  },
  {
   "cell_type": "code",
   "execution_count": 287,
   "metadata": {
    "collapsed": true
   },
   "outputs": [],
   "source": [
    "melbourne_data.drop(['BuildingArea', 'YearBuilt'], axis = 1, inplace = True)"
   ]
  },
  {
   "cell_type": "markdown",
   "metadata": {},
   "source": [
    "Now, we analyse features for the range of values they are most effective at. The target is price."
   ]
  },
  {
   "cell_type": "markdown",
   "metadata": {},
   "source": [
    "We start with sellers according to the number of properties they have."
   ]
  },
  {
   "cell_type": "code",
   "execution_count": 325,
   "metadata": {},
   "outputs": [
    {
     "data": {
      "text/html": [
       "<div>\n",
       "<style>\n",
       "    .dataframe thead tr:only-child th {\n",
       "        text-align: right;\n",
       "    }\n",
       "\n",
       "    .dataframe thead th {\n",
       "        text-align: left;\n",
       "    }\n",
       "\n",
       "    .dataframe tbody tr th {\n",
       "        vertical-align: top;\n",
       "    }\n",
       "</style>\n",
       "<table border=\"1\" class=\"dataframe\">\n",
       "  <thead>\n",
       "    <tr style=\"text-align: right;\">\n",
       "      <th></th>\n",
       "      <th>SellerG</th>\n",
       "      <th>Serial</th>\n",
       "      <th>Price</th>\n",
       "    </tr>\n",
       "  </thead>\n",
       "  <tbody>\n",
       "    <tr>\n",
       "      <th>178</th>\n",
       "      <td>Nelson</td>\n",
       "      <td>2002</td>\n",
       "      <td>995317.0769231</td>\n",
       "    </tr>\n",
       "    <tr>\n",
       "      <th>124</th>\n",
       "      <td>Jellis</td>\n",
       "      <td>1759</td>\n",
       "      <td>1354763.2734508</td>\n",
       "    </tr>\n",
       "    <tr>\n",
       "      <th>294</th>\n",
       "      <td>hockingstuart</td>\n",
       "      <td>1580</td>\n",
       "      <td>940027.6892405</td>\n",
       "    </tr>\n",
       "    <tr>\n",
       "      <th>21</th>\n",
       "      <td>Barry</td>\n",
       "      <td>1390</td>\n",
       "      <td>858260.6215827</td>\n",
       "    </tr>\n",
       "    <tr>\n",
       "      <th>224</th>\n",
       "      <td>Ray</td>\n",
       "      <td>1032</td>\n",
       "      <td>853259.2655039</td>\n",
       "    </tr>\n",
       "    <tr>\n",
       "      <th>42</th>\n",
       "      <td>Buxton</td>\n",
       "      <td>939</td>\n",
       "      <td>1215085.2342918</td>\n",
       "    </tr>\n",
       "    <tr>\n",
       "      <th>157</th>\n",
       "      <td>Marshall</td>\n",
       "      <td>887</td>\n",
       "      <td>1911994.5186020</td>\n",
       "    </tr>\n",
       "    <tr>\n",
       "      <th>29</th>\n",
       "      <td>Biggin</td>\n",
       "      <td>496</td>\n",
       "      <td>994709.4758065</td>\n",
       "    </tr>\n",
       "    <tr>\n",
       "      <th>37</th>\n",
       "      <td>Brad</td>\n",
       "      <td>442</td>\n",
       "      <td>818067.1945701</td>\n",
       "    </tr>\n",
       "    <tr>\n",
       "      <th>289</th>\n",
       "      <td>Woodards</td>\n",
       "      <td>411</td>\n",
       "      <td>1034158.6885645</td>\n",
       "    </tr>\n",
       "    <tr>\n",
       "      <th>87</th>\n",
       "      <td>Fletchers</td>\n",
       "      <td>403</td>\n",
       "      <td>1291125.3126551</td>\n",
       "    </tr>\n",
       "    <tr>\n",
       "      <th>163</th>\n",
       "      <td>McGrath</td>\n",
       "      <td>319</td>\n",
       "      <td>1036638.0877743</td>\n",
       "    </tr>\n",
       "    <tr>\n",
       "      <th>100</th>\n",
       "      <td>Greg</td>\n",
       "      <td>303</td>\n",
       "      <td>1175348.1815182</td>\n",
       "    </tr>\n",
       "    <tr>\n",
       "      <th>122</th>\n",
       "      <td>Jas</td>\n",
       "      <td>297</td>\n",
       "      <td>848688.2154882</td>\n",
       "    </tr>\n",
       "    <tr>\n",
       "      <th>254</th>\n",
       "      <td>Sweeney</td>\n",
       "      <td>285</td>\n",
       "      <td>817406.2912281</td>\n",
       "    </tr>\n",
       "    <tr>\n",
       "      <th>185</th>\n",
       "      <td>Noel</td>\n",
       "      <td>273</td>\n",
       "      <td>1199002.5641026</td>\n",
       "    </tr>\n",
       "    <tr>\n",
       "      <th>220</th>\n",
       "      <td>RT</td>\n",
       "      <td>265</td>\n",
       "      <td>1484226.4150943</td>\n",
       "    </tr>\n",
       "    <tr>\n",
       "      <th>169</th>\n",
       "      <td>Miles</td>\n",
       "      <td>264</td>\n",
       "      <td>1064009.0454545</td>\n",
       "    </tr>\n",
       "    <tr>\n",
       "      <th>97</th>\n",
       "      <td>Gary</td>\n",
       "      <td>246</td>\n",
       "      <td>991489.4308943</td>\n",
       "    </tr>\n",
       "    <tr>\n",
       "      <th>253</th>\n",
       "      <td>Stockdale</td>\n",
       "      <td>223</td>\n",
       "      <td>700803.3632287</td>\n",
       "    </tr>\n",
       "    <tr>\n",
       "      <th>291</th>\n",
       "      <td>YPA</td>\n",
       "      <td>221</td>\n",
       "      <td>597915.6108597</td>\n",
       "    </tr>\n",
       "    <tr>\n",
       "      <th>106</th>\n",
       "      <td>Harcourts</td>\n",
       "      <td>221</td>\n",
       "      <td>807179.6380090</td>\n",
       "    </tr>\n",
       "    <tr>\n",
       "      <th>110</th>\n",
       "      <td>Hodges</td>\n",
       "      <td>212</td>\n",
       "      <td>1235725.8867925</td>\n",
       "    </tr>\n",
       "    <tr>\n",
       "      <th>222</th>\n",
       "      <td>Raine</td>\n",
       "      <td>165</td>\n",
       "      <td>724352.7272727</td>\n",
       "    </tr>\n",
       "    <tr>\n",
       "      <th>131</th>\n",
       "      <td>Kay</td>\n",
       "      <td>163</td>\n",
       "      <td>1985184.3558282</td>\n",
       "    </tr>\n",
       "    <tr>\n",
       "      <th>273</th>\n",
       "      <td>Village</td>\n",
       "      <td>149</td>\n",
       "      <td>955862.4161074</td>\n",
       "    </tr>\n",
       "    <tr>\n",
       "      <th>147</th>\n",
       "      <td>Love</td>\n",
       "      <td>142</td>\n",
       "      <td>706242.2535211</td>\n",
       "    </tr>\n",
       "    <tr>\n",
       "      <th>285</th>\n",
       "      <td>Williams</td>\n",
       "      <td>134</td>\n",
       "      <td>1001632.8358209</td>\n",
       "    </tr>\n",
       "    <tr>\n",
       "      <th>79</th>\n",
       "      <td>Douglas</td>\n",
       "      <td>123</td>\n",
       "      <td>653430.8943089</td>\n",
       "    </tr>\n",
       "    <tr>\n",
       "      <th>221</th>\n",
       "      <td>RW</td>\n",
       "      <td>107</td>\n",
       "      <td>854951.8691589</td>\n",
       "    </tr>\n",
       "    <tr>\n",
       "      <th>56</th>\n",
       "      <td>Chisholm</td>\n",
       "      <td>92</td>\n",
       "      <td>1002600.5326087</td>\n",
       "    </tr>\n",
       "    <tr>\n",
       "      <th>187</th>\n",
       "      <td>O'Brien</td>\n",
       "      <td>91</td>\n",
       "      <td>776827.0109890</td>\n",
       "    </tr>\n",
       "    <tr>\n",
       "      <th>232</th>\n",
       "      <td>Rendina</td>\n",
       "      <td>85</td>\n",
       "      <td>971797.3647059</td>\n",
       "    </tr>\n",
       "    <tr>\n",
       "      <th>102</th>\n",
       "      <td>HAR</td>\n",
       "      <td>84</td>\n",
       "      <td>724452.3809524</td>\n",
       "    </tr>\n",
       "    <tr>\n",
       "      <th>83</th>\n",
       "      <td>Eview</td>\n",
       "      <td>80</td>\n",
       "      <td>737775.5500000</td>\n",
       "    </tr>\n",
       "    <tr>\n",
       "      <th>45</th>\n",
       "      <td>C21</td>\n",
       "      <td>79</td>\n",
       "      <td>888873.4177215</td>\n",
       "    </tr>\n",
       "    <tr>\n",
       "      <th>215</th>\n",
       "      <td>Purplebricks</td>\n",
       "      <td>78</td>\n",
       "      <td>824961.5512821</td>\n",
       "    </tr>\n",
       "    <tr>\n",
       "      <th>60</th>\n",
       "      <td>Collins</td>\n",
       "      <td>68</td>\n",
       "      <td>1301698.5294118</td>\n",
       "    </tr>\n",
       "    <tr>\n",
       "      <th>51</th>\n",
       "      <td>Cayzer</td>\n",
       "      <td>66</td>\n",
       "      <td>1316318.1818182</td>\n",
       "    </tr>\n",
       "    <tr>\n",
       "      <th>205</th>\n",
       "      <td>Philip</td>\n",
       "      <td>65</td>\n",
       "      <td>1061690.7692308</td>\n",
       "    </tr>\n",
       "    <tr>\n",
       "      <th>38</th>\n",
       "      <td>Buckingham</td>\n",
       "      <td>62</td>\n",
       "      <td>832808.0645161</td>\n",
       "    </tr>\n",
       "    <tr>\n",
       "      <th>260</th>\n",
       "      <td>Thomson</td>\n",
       "      <td>59</td>\n",
       "      <td>710720.3389831</td>\n",
       "    </tr>\n",
       "    <tr>\n",
       "      <th>26</th>\n",
       "      <td>Bells</td>\n",
       "      <td>57</td>\n",
       "      <td>667166.6666667</td>\n",
       "    </tr>\n",
       "    <tr>\n",
       "      <th>71</th>\n",
       "      <td>Darren</td>\n",
       "      <td>55</td>\n",
       "      <td>757627.2727273</td>\n",
       "    </tr>\n",
       "    <tr>\n",
       "      <th>184</th>\n",
       "      <td>Nick</td>\n",
       "      <td>53</td>\n",
       "      <td>1843433.9622642</td>\n",
       "    </tr>\n",
       "    <tr>\n",
       "      <th>173</th>\n",
       "      <td>Moonee</td>\n",
       "      <td>51</td>\n",
       "      <td>792441.1764706</td>\n",
       "    </tr>\n",
       "    <tr>\n",
       "      <th>91</th>\n",
       "      <td>Frank</td>\n",
       "      <td>50</td>\n",
       "      <td>1062132.0000000</td>\n",
       "    </tr>\n",
       "    <tr>\n",
       "      <th>161</th>\n",
       "      <td>McDonald</td>\n",
       "      <td>50</td>\n",
       "      <td>1058270.0000000</td>\n",
       "    </tr>\n",
       "    <tr>\n",
       "      <th>137</th>\n",
       "      <td>LITTLE</td>\n",
       "      <td>50</td>\n",
       "      <td>619930.0000000</td>\n",
       "    </tr>\n",
       "    <tr>\n",
       "      <th>6</th>\n",
       "      <td>Alexkarbon</td>\n",
       "      <td>47</td>\n",
       "      <td>895704.0425532</td>\n",
       "    </tr>\n",
       "    <tr>\n",
       "      <th>175</th>\n",
       "      <td>Morrison</td>\n",
       "      <td>46</td>\n",
       "      <td>922793.8478261</td>\n",
       "    </tr>\n",
       "    <tr>\n",
       "      <th>64</th>\n",
       "      <td>Considine</td>\n",
       "      <td>46</td>\n",
       "      <td>987065.2173913</td>\n",
       "    </tr>\n",
       "    <tr>\n",
       "      <th>40</th>\n",
       "      <td>Burnham</td>\n",
       "      <td>43</td>\n",
       "      <td>653058.1395349</td>\n",
       "    </tr>\n",
       "    <tr>\n",
       "      <th>204</th>\n",
       "      <td>Peter</td>\n",
       "      <td>41</td>\n",
       "      <td>851121.9512195</td>\n",
       "    </tr>\n",
       "    <tr>\n",
       "      <th>80</th>\n",
       "      <td>Edward</td>\n",
       "      <td>40</td>\n",
       "      <td>709287.5000000</td>\n",
       "    </tr>\n",
       "    <tr>\n",
       "      <th>74</th>\n",
       "      <td>Dingle</td>\n",
       "      <td>38</td>\n",
       "      <td>554934.2105263</td>\n",
       "    </tr>\n",
       "    <tr>\n",
       "      <th>20</th>\n",
       "      <td>Barlow</td>\n",
       "      <td>37</td>\n",
       "      <td>841067.5675676</td>\n",
       "    </tr>\n",
       "    <tr>\n",
       "      <th>277</th>\n",
       "      <td>Walshe</td>\n",
       "      <td>33</td>\n",
       "      <td>646863.6363636</td>\n",
       "    </tr>\n",
       "    <tr>\n",
       "      <th>108</th>\n",
       "      <td>Haughton</td>\n",
       "      <td>32</td>\n",
       "      <td>734343.7500000</td>\n",
       "    </tr>\n",
       "    <tr>\n",
       "      <th>152</th>\n",
       "      <td>MICM</td>\n",
       "      <td>28</td>\n",
       "      <td>672750.0000000</td>\n",
       "    </tr>\n",
       "    <tr>\n",
       "      <th>138</th>\n",
       "      <td>LJ</td>\n",
       "      <td>28</td>\n",
       "      <td>688767.8571429</td>\n",
       "    </tr>\n",
       "    <tr>\n",
       "      <th>25</th>\n",
       "      <td>Beller</td>\n",
       "      <td>27</td>\n",
       "      <td>797055.5555556</td>\n",
       "    </tr>\n",
       "    <tr>\n",
       "      <th>3</th>\n",
       "      <td>Abercromby's</td>\n",
       "      <td>27</td>\n",
       "      <td>2074518.5185185</td>\n",
       "    </tr>\n",
       "    <tr>\n",
       "      <th>146</th>\n",
       "      <td>Lindellas</td>\n",
       "      <td>26</td>\n",
       "      <td>1443903.8461538</td>\n",
       "    </tr>\n",
       "    <tr>\n",
       "      <th>107</th>\n",
       "      <td>Harrington</td>\n",
       "      <td>26</td>\n",
       "      <td>957692.3076923</td>\n",
       "    </tr>\n",
       "    <tr>\n",
       "      <th>286</th>\n",
       "      <td>Wilson</td>\n",
       "      <td>25</td>\n",
       "      <td>1114000.0000000</td>\n",
       "    </tr>\n",
       "    <tr>\n",
       "      <th>84</th>\n",
       "      <td>FN</td>\n",
       "      <td>25</td>\n",
       "      <td>677100.0000000</td>\n",
       "    </tr>\n",
       "    <tr>\n",
       "      <th>283</th>\n",
       "      <td>Whiting</td>\n",
       "      <td>24</td>\n",
       "      <td>803895.8333333</td>\n",
       "    </tr>\n",
       "    <tr>\n",
       "      <th>93</th>\n",
       "      <td>GL</td>\n",
       "      <td>23</td>\n",
       "      <td>691043.4782609</td>\n",
       "    </tr>\n",
       "    <tr>\n",
       "      <th>50</th>\n",
       "      <td>Castran</td>\n",
       "      <td>23</td>\n",
       "      <td>1715695.6521739</td>\n",
       "    </tr>\n",
       "  </tbody>\n",
       "</table>\n",
       "</div>"
      ],
      "text/plain": [
       "           SellerG  Serial           Price\n",
       "178         Nelson    2002  995317.0769231\n",
       "124         Jellis    1759 1354763.2734508\n",
       "294  hockingstuart    1580  940027.6892405\n",
       "21           Barry    1390  858260.6215827\n",
       "224            Ray    1032  853259.2655039\n",
       "42          Buxton     939 1215085.2342918\n",
       "157       Marshall     887 1911994.5186020\n",
       "29          Biggin     496  994709.4758065\n",
       "37            Brad     442  818067.1945701\n",
       "289       Woodards     411 1034158.6885645\n",
       "87       Fletchers     403 1291125.3126551\n",
       "163        McGrath     319 1036638.0877743\n",
       "100           Greg     303 1175348.1815182\n",
       "122            Jas     297  848688.2154882\n",
       "254        Sweeney     285  817406.2912281\n",
       "185           Noel     273 1199002.5641026\n",
       "220             RT     265 1484226.4150943\n",
       "169          Miles     264 1064009.0454545\n",
       "97            Gary     246  991489.4308943\n",
       "253      Stockdale     223  700803.3632287\n",
       "291            YPA     221  597915.6108597\n",
       "106      Harcourts     221  807179.6380090\n",
       "110         Hodges     212 1235725.8867925\n",
       "222          Raine     165  724352.7272727\n",
       "131            Kay     163 1985184.3558282\n",
       "273        Village     149  955862.4161074\n",
       "147           Love     142  706242.2535211\n",
       "285       Williams     134 1001632.8358209\n",
       "79         Douglas     123  653430.8943089\n",
       "221             RW     107  854951.8691589\n",
       "56        Chisholm      92 1002600.5326087\n",
       "187        O'Brien      91  776827.0109890\n",
       "232        Rendina      85  971797.3647059\n",
       "102            HAR      84  724452.3809524\n",
       "83           Eview      80  737775.5500000\n",
       "45             C21      79  888873.4177215\n",
       "215   Purplebricks      78  824961.5512821\n",
       "60         Collins      68 1301698.5294118\n",
       "51          Cayzer      66 1316318.1818182\n",
       "205         Philip      65 1061690.7692308\n",
       "38      Buckingham      62  832808.0645161\n",
       "260        Thomson      59  710720.3389831\n",
       "26           Bells      57  667166.6666667\n",
       "71          Darren      55  757627.2727273\n",
       "184           Nick      53 1843433.9622642\n",
       "173         Moonee      51  792441.1764706\n",
       "91           Frank      50 1062132.0000000\n",
       "161       McDonald      50 1058270.0000000\n",
       "137         LITTLE      50  619930.0000000\n",
       "6       Alexkarbon      47  895704.0425532\n",
       "175       Morrison      46  922793.8478261\n",
       "64       Considine      46  987065.2173913\n",
       "40         Burnham      43  653058.1395349\n",
       "204          Peter      41  851121.9512195\n",
       "80          Edward      40  709287.5000000\n",
       "74          Dingle      38  554934.2105263\n",
       "20          Barlow      37  841067.5675676\n",
       "277         Walshe      33  646863.6363636\n",
       "108       Haughton      32  734343.7500000\n",
       "152           MICM      28  672750.0000000\n",
       "138             LJ      28  688767.8571429\n",
       "25          Beller      27  797055.5555556\n",
       "3     Abercromby's      27 2074518.5185185\n",
       "146      Lindellas      26 1443903.8461538\n",
       "107     Harrington      26  957692.3076923\n",
       "286         Wilson      25 1114000.0000000\n",
       "84              FN      25  677100.0000000\n",
       "283        Whiting      24  803895.8333333\n",
       "93              GL      23  691043.4782609\n",
       "50         Castran      23 1715695.6521739"
      ]
     },
     "execution_count": 325,
     "metadata": {},
     "output_type": "execute_result"
    }
   ],
   "source": [
    "no_of_sellers = len(m_data['SellerG'].unique())\n",
    "pd.options.display.max_rows = no_of_sellers\n",
    "gp_sellers = m_data.groupby('SellerG').agg({'Serial': 'count', 'Price':'mean'}).reset_index().sort_values('Serial', ascending=False).head(70)\n",
    "gp_sellers"
   ]
  },
  {
   "cell_type": "markdown",
   "metadata": {},
   "source": [
    "We see that mean price for sellers having properties around 250, then, again rapidly starts increasing from 500 to decrease before 1000. Later on, it remains steady or increases after 1000 only to decrease before 2000."
   ]
  },
  {
   "cell_type": "code",
   "execution_count": 324,
   "metadata": {
    "scrolled": true
   },
   "outputs": [
    {
     "data": {
      "image/png": "[encoded data removed]",
      "text/plain": [
       "<matplotlib.figure.Figure at 0x34d1cc59e8>"
      ]
     },
     "metadata": {},
     "output_type": "display_data"
    }
   ],
   "source": [
    "plt.figure(figsize=(20,20))\n",
    "plt.plot(gp_sellers['Serial'], gp_sellers['Price'])\n",
    "#plt.xticks(np.arange(min(gp_sellers['Serial']), max(gp_sellers['Serial'])+1, 1.0))\n",
    "#plt.yticks(np.arange(min(gp_sellers['Price']), max(gp_sellers['Price'])+1, 1.0))\n",
    "plt.show()"
   ]
  },
  {
   "cell_type": "markdown",
   "metadata": {},
   "source": [
    "Next, we analyze the relation between no of rooms in the house and the price of the house."
   ]
  },
  {
   "cell_type": "markdown",
   "metadata": {},
   "source": [
    "Grouping price according to the no of rooms"
   ]
  },
  {
   "cell_type": "code",
   "execution_count": 365,
   "metadata": {},
   "outputs": [
    {
     "data": {
      "text/html": [
       "<div>\n",
       "<style>\n",
       "    .dataframe thead tr:only-child th {\n",
       "        text-align: right;\n",
       "    }\n",
       "\n",
       "    .dataframe thead th {\n",
       "        text-align: left;\n",
       "    }\n",
       "\n",
       "    .dataframe tbody tr th {\n",
       "        vertical-align: top;\n",
       "    }\n",
       "</style>\n",
       "<table border=\"1\" class=\"dataframe\">\n",
       "  <thead>\n",
       "    <tr style=\"text-align: right;\">\n",
       "      <th></th>\n",
       "      <th>Rooms</th>\n",
       "      <th>Serial</th>\n",
       "      <th>Price</th>\n",
       "    </tr>\n",
       "  </thead>\n",
       "  <tbody>\n",
       "    <tr>\n",
       "      <th>0</th>\n",
       "      <td>1</td>\n",
       "      <td>909</td>\n",
       "      <td>435755.4466447</td>\n",
       "    </tr>\n",
       "    <tr>\n",
       "      <th>1</th>\n",
       "      <td>2</td>\n",
       "      <td>4992</td>\n",
       "      <td>755657.0651042</td>\n",
       "    </tr>\n",
       "    <tr>\n",
       "      <th>2</th>\n",
       "      <td>3</td>\n",
       "      <td>7953</td>\n",
       "      <td>1052702.6821325</td>\n",
       "    </tr>\n",
       "    <tr>\n",
       "      <th>8</th>\n",
       "      <td>9</td>\n",
       "      <td>1</td>\n",
       "      <td>1380000.0000000</td>\n",
       "    </tr>\n",
       "    <tr>\n",
       "      <th>3</th>\n",
       "      <td>4</td>\n",
       "      <td>3648</td>\n",
       "      <td>1433786.7549342</td>\n",
       "    </tr>\n",
       "    <tr>\n",
       "      <th>6</th>\n",
       "      <td>7</td>\n",
       "      <td>13</td>\n",
       "      <td>1759384.6153846</td>\n",
       "    </tr>\n",
       "    <tr>\n",
       "      <th>4</th>\n",
       "      <td>5</td>\n",
       "      <td>773</td>\n",
       "      <td>1863780.9935317</td>\n",
       "    </tr>\n",
       "    <tr>\n",
       "      <th>5</th>\n",
       "      <td>6</td>\n",
       "      <td>92</td>\n",
       "      <td>1863853.2608696</td>\n",
       "    </tr>\n",
       "    <tr>\n",
       "      <th>7</th>\n",
       "      <td>8</td>\n",
       "      <td>10</td>\n",
       "      <td>1916200.0000000</td>\n",
       "    </tr>\n",
       "    <tr>\n",
       "      <th>9</th>\n",
       "      <td>10</td>\n",
       "      <td>4</td>\n",
       "      <td>1943750.0000000</td>\n",
       "    </tr>\n",
       "    <tr>\n",
       "      <th>10</th>\n",
       "      <td>12</td>\n",
       "      <td>1</td>\n",
       "      <td>4700000.0000000</td>\n",
       "    </tr>\n",
       "  </tbody>\n",
       "</table>\n",
       "</div>"
      ],
      "text/plain": [
       "    Rooms  Serial           Price\n",
       "0       1     909  435755.4466447\n",
       "1       2    4992  755657.0651042\n",
       "2       3    7953 1052702.6821325\n",
       "8       9       1 1380000.0000000\n",
       "3       4    3648 1433786.7549342\n",
       "6       7      13 1759384.6153846\n",
       "4       5     773 1863780.9935317\n",
       "5       6      92 1863853.2608696\n",
       "7       8      10 1916200.0000000\n",
       "9      10       4 1943750.0000000\n",
       "10     12       1 4700000.0000000"
      ]
     },
     "execution_count": 365,
     "metadata": {},
     "output_type": "execute_result"
    }
   ],
   "source": [
    "gp_rooms = m_data.groupby('Rooms').agg({'Serial': 'count', 'Price':'mean'}).reset_index().sort_values('Price', ascending = False).head(70)\n",
    "gp_rooms.sort_values('Price', ascending = 'False')"
   ]
  },
  {
   "cell_type": "code",
   "execution_count": 360,
   "metadata": {},
   "outputs": [
    {
     "data": {
      "image/png": "[encoded data removed]",
      "text/plain": [
       "<matplotlib.figure.Figure at 0x34d603c358>"
      ]
     },
     "metadata": {},
     "output_type": "display_data"
    }
   ],
   "source": [
    "plt.plot(m_data['Rooms'], m_data['Price'])\n",
    "plt.show()"
   ]
  },
  {
   "cell_type": "code",
   "execution_count": 358,
   "metadata": {},
   "outputs": [
    {
     "data": {
      "image/png": "[encoded data removed]",
      "text/plain": [
       "<matplotlib.figure.Figure at 0x34d602d6d8>"
      ]
     },
     "metadata": {},
     "output_type": "display_data"
    }
   ],
   "source": [
    "plt.plot(gp_rooms['Rooms'], gp_rooms['Price'])\n",
    "plt.show()"
   ]
  },
  {
   "cell_type": "markdown",
   "metadata": {},
   "source": [
    "We observe that the no. of houses having the give no. of rooms also matter. Even when, the price is highest for the house having 12 rooms, there is only 1 house with such no of rooms. The order is: 3, 2, 4, 1, 5, 6, and effective range is [3, 7]."
   ]
  },
  {
   "cell_type": "code",
   "execution_count": 178,
   "metadata": {
    "collapsed": true
   },
   "outputs": [],
   "source": [
    "melbourne_data = m_data"
   ]
  },
  {
   "cell_type": "markdown",
   "metadata": {},
   "source": [
    "Below, we transform the data because there are various columns with different data types."
   ]
  },
  {
   "cell_type": "code",
   "execution_count": 93,
   "metadata": {
    "collapsed": true
   },
   "outputs": [],
   "source": [
    "number = preprocessing.LabelEncoder()\n",
    "melbourne_data=melbourne_data.astype(str)\n",
    "melbourne_data=melbourne_data.apply(number.fit_transform)\n",
    "melbourne_data=melbourne_data.fillna(-999)"
   ]
  },
  {
   "cell_type": "markdown",
   "metadata": {},
   "source": [
    "Preprocessing data. There are null values that need to be filled up. Imputer() here uses mean as the measure of central tendency."
   ]
  },
  {
   "cell_type": "code",
   "execution_count": 94,
   "metadata": {
    "collapsed": true
   },
   "outputs": [],
   "source": [
    "my_imputer = Imputer(strategy='mean', axis=0)\n",
    "data_with_imputed_values = pd.DataFrame(my_imputer.fit_transform(melbourne_data))\n",
    "data_with_imputed_values.columns = melbourne_data.columns"
   ]
  },
  {
   "cell_type": "code",
   "execution_count": 61,
   "metadata": {
    "collapsed": true
   },
   "outputs": [],
   "source": [
    "# features\n",
    "\n",
    "features = ['Suburb', 'Address', 'Rooms', 'Type', 'Price', 'Method',\n",
    "       'SellerG', 'Date', 'Distance', 'Postcode', 'Bedroom2', 'Bathroom',\n",
    "       'Car', 'Landsize', 'BuildingArea', 'YearBuilt', 'CouncilArea',\n",
    "       'Lattitude', 'Longtitude', 'Regionname', 'Propertycount']\n",
    " \n",
    "# Use following to test a subset of features or a single feature.\n",
    "# specific_feature = ['Rooms']\n",
    "\n",
    "# target\n",
    "target = 'Price'"
   ]
  },
  {
   "cell_type": "code",
   "execution_count": 9,
   "metadata": {
    "collapsed": true
   },
   "outputs": [],
   "source": [
    "# variable x represents the data of selected features\n",
    "x = melbourne_data[features]\n",
    "\n",
    "# Uncomment below, and use a specific_feature\n",
    "# x = melbourne_data[specific_feature]\n",
    "\n",
    "# variable y represents the data of the target\n",
    "y = melbourne_data[target]"
   ]
  },
  {
   "cell_type": "markdown",
   "metadata": {},
   "source": [
    "train_test_split() splits the dataset into training and test data with the share of 67% and 33% respectively. x_train, y_train,\n",
    "x_test, and y_test represent training feature, training target, testing feature, and testing target respectively."
   ]
  },
  {
   "cell_type": "code",
   "execution_count": 10,
   "metadata": {
    "collapsed": true
   },
   "outputs": [],
   "source": [
    "x_train, x_test, y_train, y_test = train_test_split(x, y, test_size=0.33, random_state=324)"
   ]
  },
  {
   "cell_type": "markdown",
   "metadata": {},
   "source": [
    "***We invoke DecisionTreeRegressor() available from scikit-learn to implement Decision Tree Regression algorithm\n",
    "as the data is not categorical here, and subsequently, feed the training data to it.***"
   ]
  },
  {
   "cell_type": "code",
   "execution_count": 11,
   "metadata": {},
   "outputs": [
    {
     "data": {
      "text/plain": [
       "DecisionTreeRegressor(criterion='mse', max_depth=None, max_features=None,\n",
       "           max_leaf_nodes=None, min_impurity_split=1e-07,\n",
       "           min_samples_leaf=1, min_samples_split=2,\n",
       "           min_weight_fraction_leaf=0.0, presort=False, random_state=None,\n",
       "           splitter='best')"
      ]
     },
     "execution_count": 11,
     "metadata": {},
     "output_type": "execute_result"
    }
   ],
   "source": [
    "dt_model = DecisionTreeRegressor()\n",
    "dt_model.fit(x_train, y_train)"
   ]
  },
  {
   "cell_type": "markdown",
   "metadata": {},
   "source": [
    "Now, it's time to predict the testing target mapping to testing feature(s)."
   ]
  },
  {
   "cell_type": "code",
   "execution_count": 12,
   "metadata": {
    "collapsed": true
   },
   "outputs": [],
   "source": [
    "y_predict = dt_model.predict(x_test)"
   ]
  },
  {
   "cell_type": "code",
   "execution_count": 13,
   "metadata": {},
   "outputs": [
    {
     "name": "stdout",
     "output_type": "stream",
     "text": [
      "0.5665989992573932\n",
      "0.200461209027\n"
     ]
    }
   ],
   "source": [
    "# To validate our model, we use root mean square error which indicates the standard deviation.\n",
    "RMSE = sqrt(mean_squared_error(y_test, y_predict))\n",
    "print(RMSE)\n",
    "\n",
    "# With regression model, we can find mean absolute error.\n",
    "mae = mean_absolute_error(y_test, y_predict)\n",
    "print(mae)\n",
    "\n",
    "# If we use DecisionTreeClassifier(), accuracy score tells us the accuracy of our model using the confusion matrix parameters.\n",
    "#accuracy_score(y_true = y_test, y_pred = y_predict)"
   ]
  },
  {
   "cell_type": "markdown",
   "metadata": {},
   "source": [
    "We plot the graph for x_test and y_test, the actual data."
   ]
  },
  {
   "cell_type": "code",
   "execution_count": 14,
   "metadata": {},
   "outputs": [
    {
     "data": {
      "image/png": "[encoded data removed]",
      "text/plain": [
       "<matplotlib.figure.Figure at 0x409bc5e208>"
      ]
     },
     "metadata": {},
     "output_type": "display_data"
    }
   ],
   "source": [
    "plt.plot(x_test, y_test)\n",
    "plt.show()"
   ]
  },
  {
   "cell_type": "markdown",
   "metadata": {},
   "source": [
    "We plot the graph for x_test and y_predict, the predicted data."
   ]
  },
  {
   "cell_type": "code",
   "execution_count": 15,
   "metadata": {},
   "outputs": [
    {
     "data": {
      "image/png": "[encoded data removed]",
      "text/plain": [
       "<matplotlib.figure.Figure at 0x40965b82e8>"
      ]
     },
     "metadata": {},
     "output_type": "display_data"
    }
   ],
   "source": [
    "plt.plot(x_test, y_predict)\n",
    "plt.show()"
   ]
  },
  {
   "cell_type": "code",
   "execution_count": 16,
   "metadata": {},
   "outputs": [
    {
     "data": {
      "text/plain": [
       "['decision_tree_model.pkl']"
      ]
     },
     "execution_count": 16,
     "metadata": {},
     "output_type": "execute_result"
    }
   ],
   "source": [
    "# Here we serialize our model using joblib from flask.\n",
    "joblib.dump(dt_model, \"decision_tree_model.pkl\")"
   ]
  },
  {
   "cell_type": "code",
   "execution_count": 366,
   "metadata": {
    "collapsed": true
   },
   "outputs": [],
   "source": [
    "# Now, we deserialize the model and use it for prediction.\n",
    "dt_model = joblib.load(\"./decision_tree_model.pkl\")\n",
    "\n",
    "# Below, we predict for a specific feature.\n",
    "# json.dumps(dt_model.predict(10).tolist())"
   ]
  },
  {
   "cell_type": "markdown",
   "metadata": {},
   "source": [
    "***Now, we demonstrate Random Forest model. In random forest model, we implement the concept of bagging where multiple decision trees are implemented and best out of them is used for prediction. This helps us in reducing the error and bettering our prediction and accuracy (with classifier) both. And hopefully, precision too!***"
   ]
  },
  {
   "cell_type": "markdown",
   "metadata": {},
   "source": [
    "We invoke RandomForestRegressor() available from scikit-learn to implement Random Forest Regressor algorithm, and\n",
    "subsequently, feed the training data to it."
   ]
  },
  {
   "cell_type": "code",
   "execution_count": 18,
   "metadata": {},
   "outputs": [
    {
     "data": {
      "text/plain": [
       "RandomForestRegressor(bootstrap=True, criterion='mse', max_depth=None,\n",
       "           max_features='auto', max_leaf_nodes=None,\n",
       "           min_impurity_split=1e-07, min_samples_leaf=1,\n",
       "           min_samples_split=2, min_weight_fraction_leaf=0.0,\n",
       "           n_estimators=10, n_jobs=1, oob_score=False, random_state=None,\n",
       "           verbose=0, warm_start=False)"
      ]
     },
     "execution_count": 18,
     "metadata": {},
     "output_type": "execute_result"
    }
   ],
   "source": [
    "forest_model = RandomForestRegressor()\n",
    "forest_model.fit(x_train, y_train)"
   ]
  },
  {
   "cell_type": "code",
   "execution_count": 19,
   "metadata": {},
   "outputs": [
    {
     "data": {
      "text/plain": [
       "array([ 2336.1,  1963.2,  1588. , ...,  2263.3,  2089. ,   537. ])"
      ]
     },
     "execution_count": 19,
     "metadata": {},
     "output_type": "execute_result"
    }
   ],
   "source": [
    "# Now, it's time to predict the testing target mapping to testing feature(s).\n",
    "y_predict = forest_model.predict(x_test)\n",
    "y_predict"
   ]
  },
  {
   "cell_type": "code",
   "execution_count": 20,
   "metadata": {},
   "outputs": [
    {
     "name": "stdout",
     "output_type": "stream",
     "text": [
      "0.40991058078138654\n",
      "0.190298138692\n"
     ]
    }
   ],
   "source": [
    "# To validate our model, we use root mean square error which indicates the standard deviation.\n",
    "RMSE = sqrt(mean_squared_error(y_test, y_predict))\n",
    "print(RMSE)\n",
    "\n",
    "# With regression model, we can find mean absolute error.\n",
    "mae = mean_absolute_error(y_test, y_predict)\n",
    "print(mae)"
   ]
  },
  {
   "cell_type": "code",
   "execution_count": 21,
   "metadata": {},
   "outputs": [
    {
     "data": {
      "image/png": "[encoded data removed]",
      "text/plain": [
       "<matplotlib.figure.Figure at 0x409bc5da20>"
      ]
     },
     "metadata": {},
     "output_type": "display_data"
    }
   ],
   "source": [
    "# We plot the graph for x_test and y_test, the actual data.\n",
    "plt.plot(x_test, y_test)\n",
    "plt.show()"
   ]
  },
  {
   "cell_type": "code",
   "execution_count": 22,
   "metadata": {},
   "outputs": [
    {
     "data": {
      "image/png": "[encoded data removed]",
      "text/plain": [
       "<matplotlib.figure.Figure at 0x409bbe9a20>"
      ]
     },
     "metadata": {},
     "output_type": "display_data"
    }
   ],
   "source": [
    "# We plot the graph for x_test and y_predict, the predicted data.\n",
    "plt.plot(x_test, y_predict)\n",
    "plt.show()"
   ]
  },
  {
   "cell_type": "markdown",
   "metadata": {},
   "source": [
    "***Now, we demonstrate Linear Regression model to predict the prices.***"
   ]
  },
  {
   "cell_type": "markdown",
   "metadata": {},
   "source": [
    "We invoke LinearRegression() available from scikit-learn to implement Linear Regression algorithm, and \n",
    "subsequently, feed the training data to it."
   ]
  },
  {
   "cell_type": "code",
   "execution_count": 23,
   "metadata": {
    "scrolled": true
   },
   "outputs": [
    {
     "data": {
      "text/plain": [
       "LinearRegression(copy_X=True, fit_intercept=True, n_jobs=1, normalize=False)"
      ]
     },
     "execution_count": 23,
     "metadata": {},
     "output_type": "execute_result"
    }
   ],
   "source": [
    "lr_model = LinearRegression()\n",
    "lr_model.fit(x_train, y_train)"
   ]
  },
  {
   "cell_type": "code",
   "execution_count": 24,
   "metadata": {},
   "outputs": [
    {
     "data": {
      "text/plain": [
       "array([ 2336.,  1962.,  1588., ...,  2263.,  2089.,   537.])"
      ]
     },
     "execution_count": 24,
     "metadata": {},
     "output_type": "execute_result"
    }
   ],
   "source": [
    "# Now, it's time to predict the testing target mapping to testing feature(s).\n",
    "y_predict = lr_model.predict(x_test)\n",
    "y_predict"
   ]
  },
  {
   "cell_type": "code",
   "execution_count": 25,
   "metadata": {},
   "outputs": [
    {
     "name": "stdout",
     "output_type": "stream",
     "text": [
      "1.6231412237329057e-12\n",
      "1.31913023133e-12\n"
     ]
    }
   ],
   "source": [
    "# To validate our model, we use root mean square error which indicates the standard deviation.\n",
    "RMSE = sqrt(mean_squared_error(y_test, y_predict))\n",
    "print(RMSE)\n",
    "\n",
    "# With regression model, we can find mean absolute error.\n",
    "mae = mean_absolute_error(y_test, y_predict)\n",
    "print(mae)"
   ]
  },
  {
   "cell_type": "code",
   "execution_count": 26,
   "metadata": {},
   "outputs": [
    {
     "data": {
      "image/png": "[encoded data removed]",
      "text/plain": [
       "<matplotlib.figure.Figure at 0x409bbe9320>"
      ]
     },
     "metadata": {},
     "output_type": "display_data"
    }
   ],
   "source": [
    "# We plot the graph for x_test and y_test, the actual data.\n",
    "plt.plot(x_test, y_test)\n",
    "plt.show()"
   ]
  },
  {
   "cell_type": "code",
   "execution_count": 27,
   "metadata": {},
   "outputs": [
    {
     "data": {
      "image/png": "[encoded data removed]",
      "text/plain": [
       "<matplotlib.figure.Figure at 0x409bbf8978>"
      ]
     },
     "metadata": {},
     "output_type": "display_data"
    }
   ],
   "source": [
    "# We plot the graph for x_test and y_predict, the predicted data.\n",
    "plt.plot(x_test, y_predict)\n",
    "plt.show()"
   ]
  },
  {
   "cell_type": "markdown",
   "metadata": {},
   "source": [
    "We invoke GaussianNB() to implement Gaussian event model for Naive Bayes — available from scikit-learn\n",
    "to implement Linear Regression algorithm, and subsequently, feed the training data to it."
   ]
  },
  {
   "cell_type": "code",
   "execution_count": 28,
   "metadata": {},
   "outputs": [
    {
     "data": {
      "text/plain": [
       "GaussianNB(priors=None)"
      ]
     },
     "execution_count": 28,
     "metadata": {},
     "output_type": "execute_result"
    }
   ],
   "source": [
    "nb_model = GaussianNB()\n",
    "nb_model.fit(x_train, y_train)"
   ]
  },
  {
   "cell_type": "code",
   "execution_count": 29,
   "metadata": {},
   "outputs": [
    {
     "data": {
      "text/plain": [
       "array([2335, 1963, 1588, ..., 2265, 2089,  537], dtype=int64)"
      ]
     },
     "execution_count": 29,
     "metadata": {},
     "output_type": "execute_result"
    }
   ],
   "source": [
    "# Now, it's time to predict the testing target mapping to testing feature(s).\n",
    "y_predict = nb_model.predict(x_test)\n",
    "y_predict"
   ]
  },
  {
   "cell_type": "code",
   "execution_count": 30,
   "metadata": {},
   "outputs": [
    {
     "name": "stdout",
     "output_type": "stream",
     "text": [
      "0.9177148935952473\n",
      "0.38329764454\n"
     ]
    }
   ],
   "source": [
    "# To validate our model, we use root mean square error which indicates the standard deviation.\n",
    "RMSE = sqrt(mean_squared_error(y_test, y_predict))\n",
    "print(RMSE)\n",
    "\n",
    "# With regression model, we can find mean absolute error.\n",
    "mae = mean_absolute_error(y_test, y_predict)\n",
    "print(mae)"
   ]
  },
  {
   "cell_type": "code",
   "execution_count": 31,
   "metadata": {},
   "outputs": [
    {
     "data": {
      "image/png": "[encoded data removed]",
      "text/plain": [
       "<matplotlib.figure.Figure at 0x409bb9d710>"
      ]
     },
     "metadata": {},
     "output_type": "display_data"
    }
   ],
   "source": [
    "# We plot the graph for x_test and y_test, the actual data.\n",
    "plt.plot(x_test, y_test)\n",
    "plt.show()"
   ]
  },
  {
   "cell_type": "code",
   "execution_count": 32,
   "metadata": {},
   "outputs": [
    {
     "data": {
      "image/png": "[encoded data removed]",
      "text/plain": [
       "<matplotlib.figure.Figure at 0x409bb9d7f0>"
      ]
     },
     "metadata": {},
     "output_type": "display_data"
    }
   ],
   "source": [
    "# We plot the graph for x_test and y_predict, the predicted data.\n",
    "plt.plot(x_test, y_predict)\n",
    "plt.show()"
   ]
  }
 ],
 "metadata": {
  "kernelspec": {
   "display_name": "Python 3",
   "language": "python",
   "name": "python3"
  },
  "language_info": {
   "codemirror_mode": {
    "name": "ipython",
    "version": 3
   },
   "file_extension": ".py",
   "mimetype": "text/x-python",
   "name": "python",
   "nbconvert_exporter": "python",
   "pygments_lexer": "ipython3",
   "version": "3.6.1"
  }
 },
 "nbformat": 4,
 "nbformat_minor": 2
}
